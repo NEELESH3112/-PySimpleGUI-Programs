{
  "cells": [
    {
      "cell_type": "markdown",
      "metadata": {
        "id": "view-in-github",
        "colab_type": "text"
      },
      "source": [
        "<a href=\"https://colab.research.google.com/github/NEELESH3112/-PySimpleGUI-Programs/blob/main/3_control_flow.ipynb\" target=\"_parent\"><img src=\"https://colab.research.google.com/assets/colab-badge.svg\" alt=\"Open In Colab\"/></a>"
      ]
    },
    {
      "cell_type": "markdown",
      "id": "c5c1261d",
      "metadata": {
        "pycharm": {
          "name": "#%% md\n"
        },
        "id": "c5c1261d"
      },
      "source": [
        "Fill in your github username and idm credentials below:"
      ]
    },
    {
      "cell_type": "code",
      "execution_count": 1,
      "id": "b02ec8ad",
      "metadata": {
        "pycharm": {
          "is_executing": true,
          "name": "#%%\n"
        },
        "vscode": {
          "languageId": "python"
        },
        "id": "b02ec8ad"
      },
      "outputs": [],
      "source": [
        "github_username = \"https://github.com/NEELESH3112\"\n",
        "idm_credentials = \"en18yfud\""
      ]
    },
    {
      "cell_type": "markdown",
      "id": "1bc34d78",
      "metadata": {
        "pycharm": {
          "name": "#%% md\n"
        },
        "id": "1bc34d78"
      },
      "source": [
        "---"
      ]
    },
    {
      "cell_type": "markdown",
      "id": "755c6140-79ab-496f-9e79-71972edca5bc",
      "metadata": {
        "id": "755c6140-79ab-496f-9e79-71972edca5bc"
      },
      "source": [
        "# **Applied Data Science in Medicine & Psychology - Assignment 3**\n",
        "## Control Flow and Order of Operations\n",
        "---\n",
        "**Deadline: 28.05.2024, 23:59**\n",
        "### **General Setup and Submission**\n",
        "1. Save an editable copy of this notebook to your Google Drive ``File`` $\\rightarrow$ ``Save a copy in Drive`` and remove the automatically appended \"Copy of\" text. **Do not change the original file name**.\n",
        "2. Work on the assignment in the *copied* version of the notebook. Make sure that you **replace** all parts of the tasks indicated with *YOUR CODE HERE* and **raise NotImplementedError()** (otherwise this causes an error in your implementation) or *YOUR ANSWER HERE* with your solution.\n",
        "3. If you take a break during the implementation, you can save the current status of your work in your repository following the submission instructions below. When you continue working on the assignment, do this in the version of the notebook that you saved in your Google Drive (access from your Google Colab account) or your repository.\n",
        "4. After finishing the assignment submit your assignment as follows:\n",
        "    * Check that everything runs as expected. To do that select in the menubar ``Runtime`` $\\rightarrow$ ``Restart and run all``. This will clear all your local variables and runs your notebook from the beginning.\n",
        "    * Save your notebook, click ``File`` $\\rightarrow$ ``Save``\n",
        "    * Click ``File`` $\\rightarrow$ ``Save a copy in GitHub``\n",
        "    * Select ``digikolleg-data-science-psychology/3-control-flow-<username>`` from the repository drop-down menu\n",
        "    * Type ``3_control_flow.ipynb`` into the file path text box\n",
        "    * Optionally, you may enter a description into the \"Commit message\" text box (like: \"solved task 1\" or \"ready for grading\")\n",
        "    * Make sure that the \"Include a link to Colaboratory\" box is checked\n",
        "    * Press \"Ok\"\n",
        "    * A new tab or window should open up, displaying your submitted notebook within your GitHub repository\n",
        "\n",
        "Before the assignment deadline, you can re-submit your assignment as often as you would like. This will update your assignment file in your assignment's repository."
      ]
    },
    {
      "cell_type": "markdown",
      "id": "2fe61c2c-a030-4c02-8214-7db7d1c10df5",
      "metadata": {
        "id": "2fe61c2c-a030-4c02-8214-7db7d1c10df5"
      },
      "source": [
        "### **Assignment Description**\n",
        "In the third Python basics assignment, you will learn about the advanced usage of loops and list comprehension to improve code efficiency and readability. Also, you will deepen your understanding of the order of operations and practice error handling techniques, such as try-except blocks and raising exceptions, to identify and deal with errors in Python code.\n",
        "\n",
        "#### **Assignment Goals**\n",
        "You are going to learn the following things in this assignment:\n",
        "1. how to improve the efficiency of your code with the advanced usage of loops\n",
        "2. how to create lists using a single line of code\n",
        "3. deepen your understanding of the order of operations\n",
        "4. identifying and dealing with errors\n",
        "\n",
        "#### **Assignment Point Value**\n",
        "This assignment is worth a total (up to) **10** points. If your code passes all of the manual and automatic tests you will receive full credit."
      ]
    },
    {
      "cell_type": "markdown",
      "id": "89d2a637-e274-43a8-a88a-23bb204e96db",
      "metadata": {
        "id": "89d2a637-e274-43a8-a88a-23bb204e96db"
      },
      "source": [
        "### **Tasks**\n",
        "Make sure that you now work on your *copied* version of this assignment's notebook."
      ]
    },
    {
      "cell_type": "markdown",
      "id": "42e90337-1130-4412-b037-d1267bc45101",
      "metadata": {
        "id": "42e90337-1130-4412-b037-d1267bc45101"
      },
      "source": [
        "#### 0. Imports and Setup\n",
        "Please **run** the cell below to import the libraries needed for this assignment."
      ]
    },
    {
      "cell_type": "code",
      "execution_count": 2,
      "id": "23f1cef0-5d30-4548-b6b6-4020b3013f8c",
      "metadata": {
        "id": "23f1cef0-5d30-4548-b6b6-4020b3013f8c"
      },
      "outputs": [],
      "source": [
        "import numpy as np\n",
        "from warnings import warn, catch_warnings\n",
        "from contextlib import suppress"
      ]
    },
    {
      "cell_type": "markdown",
      "id": "8b034e11-7713-4609-97fe-7d8d7065dac9",
      "metadata": {
        "id": "8b034e11-7713-4609-97fe-7d8d7065dac9"
      },
      "source": [
        "#### 1. Loops\n",
        "Python has some built-in functions/statements like ``range()``, ``continue``, and ``pass`` which are useful tools for controlling the flow of loops and performing specific actions based on certain conditions.\n",
        "\n",
        "##### 1.1 Play around with the ``range()`` function:\n",
        "* Write a for loop that prints every third number between 0 and 20:"
      ]
    },
    {
      "cell_type": "code",
      "execution_count": 3,
      "id": "8cfa8b81-2404-43ae-8e00-ae29c26e6b23",
      "metadata": {
        "deletable": false,
        "nbgrader": {
          "cell_type": "code",
          "checksum": "1056b652712df8af9f9d3d9437f63d2b",
          "grade": false,
          "grade_id": "range_1",
          "locked": false,
          "schema_version": 3,
          "solution": true,
          "task": false
        },
        "tags": [],
        "id": "8cfa8b81-2404-43ae-8e00-ae29c26e6b23",
        "outputId": "4fc47884-8b7d-42ce-b5ac-717089653a9a",
        "colab": {
          "base_uri": "https://localhost:8080/"
        }
      },
      "outputs": [
        {
          "output_type": "stream",
          "name": "stdout",
          "text": [
            "0\n",
            "3\n",
            "6\n",
            "9\n",
            "12\n",
            "15\n",
            "18\n"
          ]
        }
      ],
      "source": [
        "for i in range(0, 21, 3):\n",
        "    print(i)\n"
      ]
    },
    {
      "cell_type": "markdown",
      "id": "cbf20c71-a2ae-44db-bb0f-9499cd85410e",
      "metadata": {
        "id": "cbf20c71-a2ae-44db-bb0f-9499cd85410e"
      },
      "source": [
        "* Write a for loop that prints every second number between -5 and 5 (inclusive endpoints) in reverse order:"
      ]
    },
    {
      "cell_type": "code",
      "execution_count": 4,
      "id": "ad342110-7190-465c-bbb6-dfa963400288",
      "metadata": {
        "deletable": false,
        "nbgrader": {
          "cell_type": "code",
          "checksum": "804c5ad0f52b6b654a29d461a1a275d5",
          "grade": false,
          "grade_id": "range_2",
          "locked": false,
          "schema_version": 3,
          "solution": true,
          "task": false
        },
        "tags": [],
        "id": "ad342110-7190-465c-bbb6-dfa963400288",
        "colab": {
          "base_uri": "https://localhost:8080/"
        },
        "outputId": "63bc5387-4136-4182-fb2e-c990fb521bf6"
      },
      "outputs": [
        {
          "output_type": "stream",
          "name": "stdout",
          "text": [
            "5\n",
            "3\n",
            "1\n",
            "-1\n",
            "-3\n",
            "-5\n"
          ]
        }
      ],
      "source": [
        "for i in range(5, -6, -2):\n",
        "    print(i)\n"
      ]
    },
    {
      "cell_type": "markdown",
      "id": "7e945b27-2cf4-418c-bee5-da8a9d882157",
      "metadata": {
        "id": "7e945b27-2cf4-418c-bee5-da8a9d882157"
      },
      "source": [
        "* Create a list ``my_list`` with every 2nd number between -10 and 10 (inclusive endpoints):"
      ]
    },
    {
      "cell_type": "code",
      "execution_count": 5,
      "id": "d035af18-d9b6-4387-80a5-25a6a79e847f",
      "metadata": {
        "deletable": false,
        "nbgrader": {
          "cell_type": "code",
          "checksum": "108b7319e0c4aad6db5e7fadea0e84cf",
          "grade": false,
          "grade_id": "range_3",
          "locked": false,
          "schema_version": 3,
          "solution": true,
          "task": false
        },
        "tags": [],
        "id": "d035af18-d9b6-4387-80a5-25a6a79e847f"
      },
      "outputs": [],
      "source": [
        "my_list = list(range(-10, 11, 2))\n"
      ]
    },
    {
      "cell_type": "code",
      "execution_count": 6,
      "id": "a62a8450-65c9-48b1-8233-fd741bb44920",
      "metadata": {
        "deletable": false,
        "editable": false,
        "nbgrader": {
          "cell_type": "code",
          "checksum": "bec956c0e1c5b4ecdbf524e3f22ef7d8",
          "grade": true,
          "grade_id": "range_3_test",
          "locked": true,
          "points": 0.5,
          "schema_version": 3,
          "solution": false,
          "task": false
        },
        "tags": [],
        "id": "a62a8450-65c9-48b1-8233-fd741bb44920"
      },
      "outputs": [],
      "source": [
        "assert len(my_list) == 11, \"my_list must be of length 11. Check if you handled your endpoints correctly\"\n",
        "assert my_list[0] == -10 and my_list[10] == 10, \"Check if you handled your endpoints correctly\""
      ]
    },
    {
      "cell_type": "markdown",
      "id": "75695481-f355-44dc-8272-df61a198b789",
      "metadata": {
        "id": "75695481-f355-44dc-8272-df61a198b789"
      },
      "source": [
        "##### 1.2 Play around with ``pass``, ``continue``, and ``break`` statements:\n",
        "\n",
        "``break``: The break statement is used to exit a loop prematurely. When encountered, the break statement causes the loop to immediately terminate and the program execution to continue with the next statement following the loop.\n",
        "\n",
        "* What happens if you replace ``pass`` with ``continue`` or ``break``in the following code cell?"
      ]
    },
    {
      "cell_type": "code",
      "execution_count": 7,
      "id": "1f0b5144-9405-464a-992a-96b33c8591c1",
      "metadata": {
        "id": "1f0b5144-9405-464a-992a-96b33c8591c1",
        "colab": {
          "base_uri": "https://localhost:8080/"
        },
        "outputId": "8d88c91e-902d-4e97-cd6a-9c5476ee83cc"
      },
      "outputs": [
        {
          "output_type": "stream",
          "name": "stdout",
          "text": [
            "0\n",
            "1\n",
            "2\n",
            "3\n",
            "4\n",
            "5\n",
            "6\n",
            "7\n",
            "8\n",
            "9\n",
            "executed loop\n"
          ]
        }
      ],
      "source": [
        "for i in range(10):\n",
        "    if i == 6:\n",
        "        pass  # Try changing to 'continue' or 'break'\n",
        "    print(i)\n",
        "print(\"executed loop\")\n"
      ]
    },
    {
      "cell_type": "markdown",
      "id": "0578ef38-f7bf-468e-a56e-779ad321e12f",
      "metadata": {
        "id": "0578ef38-f7bf-468e-a56e-779ad321e12f"
      },
      "source": [
        "* Can you explain the difference between these 3 statements?"
      ]
    },
    {
      "cell_type": "markdown",
      "id": "b1d16fe3-471a-40c0-9271-67c1948e4d48",
      "metadata": {
        "id": "b1d16fe3-471a-40c0-9271-67c1948e4d48"
      },
      "source": [
        "pass: Does nothing, placeholder.\n",
        "\n",
        "continue: Skips the current loop iteration.\n",
        "\n",
        "break: Exits the loop completely."
      ]
    },
    {
      "cell_type": "markdown",
      "id": "afe36f11-cb32-4753-aad3-0e361791e45f",
      "metadata": {
        "id": "afe36f11-cb32-4753-aad3-0e361791e45f"
      },
      "source": [
        "#### 2. List Comprehension\n",
        "List comprehension is a concise way to create a new list by applying a transformation or filtering operation to an existing list or another iterable object. It has a compact syntax that allows you to create a new list in a single line of code.\n",
        "\n",
        "Here is the basic syntax for list comprehension in Python:\n",
        "\n",
        "```\n",
        "y = [my_fun(i) for i in x if condition(i)]\n",
        "```\n",
        "\n",
        "* ``y`` is the newly created list\n",
        "* ``x`` is a list of values that y will be based on\n",
        "* ``i`` refers to each individual element of x\n",
        "* ``my_fun`` is a function that is applied to each element of x\n",
        "* ``condition`` is an optional statement that modifies which elements of x are included (only elements i where condition(i) is True will be used)\n",
        "\n",
        "##### 2.1 Create a list ``squares`` that contains the squared values of 1 to 5 (inclusive endpoints) using list comprehension:"
      ]
    },
    {
      "cell_type": "code",
      "execution_count": 8,
      "id": "1fbf0d1d-2843-49a1-a8fb-a8f566e5480d",
      "metadata": {
        "deletable": false,
        "nbgrader": {
          "cell_type": "code",
          "checksum": "7c2d13edad3a0a340e0acc60d35311a6",
          "grade": false,
          "grade_id": "list_com_1",
          "locked": false,
          "schema_version": 3,
          "solution": true,
          "task": false
        },
        "tags": [],
        "id": "1fbf0d1d-2843-49a1-a8fb-a8f566e5480d"
      },
      "outputs": [],
      "source": [
        "squares = [i**2 for i in range(1, 6)]\n"
      ]
    },
    {
      "cell_type": "code",
      "execution_count": 9,
      "id": "175b8c05-480e-403c-a202-fcdf8e941df4",
      "metadata": {
        "deletable": false,
        "editable": false,
        "nbgrader": {
          "cell_type": "code",
          "checksum": "3c5409f51b8b4d388f95a2ae53dddd68",
          "grade": true,
          "grade_id": "list_com_1_test",
          "locked": true,
          "points": 0.5,
          "schema_version": 3,
          "solution": false,
          "task": false
        },
        "tags": [],
        "id": "175b8c05-480e-403c-a202-fcdf8e941df4"
      },
      "outputs": [],
      "source": [
        "assert len(squares) == 5, \"squares must be of length 5. Check if you handled your endpoints correctly\"\n",
        "assert squares[0] == 1, \"Check if you handled your endpoints correctly\"\n",
        "assert squares[4] == 25, \"Check if you handled your endpoints correctly\""
      ]
    },
    {
      "cell_type": "markdown",
      "id": "15677c70-e0b1-4fb8-b593-c491e79f14f5",
      "metadata": {
        "id": "15677c70-e0b1-4fb8-b593-c491e79f14f5"
      },
      "source": [
        "##### 2.2 Create a list ``even_numbers`` which contains the even numbers between 1 and 20 (inclusive endpoints if applicable) using list comprehension:"
      ]
    },
    {
      "cell_type": "code",
      "execution_count": 10,
      "id": "dce44cb4-5e34-4ea4-b331-63d60adacc5e",
      "metadata": {
        "deletable": false,
        "nbgrader": {
          "cell_type": "code",
          "checksum": "d00f5f54bfb70e7e55a08142ef2c7f44",
          "grade": false,
          "grade_id": "list_com_2",
          "locked": false,
          "schema_version": 3,
          "solution": true,
          "task": false
        },
        "tags": [],
        "id": "dce44cb4-5e34-4ea4-b331-63d60adacc5e"
      },
      "outputs": [],
      "source": [
        "even_numbers = [i for i in range(1, 21) if i % 2 == 0]\n"
      ]
    },
    {
      "cell_type": "code",
      "execution_count": 11,
      "id": "84ae3aed-78e3-42d3-92ca-a56b32b6d877",
      "metadata": {
        "deletable": false,
        "editable": false,
        "nbgrader": {
          "cell_type": "code",
          "checksum": "9f777c0dd4bdb98012fbf4195e82bb87",
          "grade": true,
          "grade_id": "list_com_2_test",
          "locked": true,
          "points": 0.5,
          "schema_version": 3,
          "solution": false,
          "task": false
        },
        "tags": [],
        "id": "84ae3aed-78e3-42d3-92ca-a56b32b6d877"
      },
      "outputs": [],
      "source": [
        "assert len(even_numbers) == 10, \"even_numbers must be of length 10. Check if you handled your endpoints correctly\"\n",
        "assert even_numbers[0] == 2 and even_numbers[9] == 20, \"Check if you handled your endpoints correctly\""
      ]
    },
    {
      "cell_type": "markdown",
      "id": "448f3f83-b190-41ef-b264-1480d07a167d",
      "metadata": {
        "id": "448f3f83-b190-41ef-b264-1480d07a167d"
      },
      "source": [
        "##### 2.3 Create a list ``ab_mp`` which contains the elementwise multiplication of the given lists ``a`` and ``b`` using list comprehension:\n",
        "**Hint**: Look into ``len(my_list)`` which returns the number of elements of the given ``my_list``."
      ]
    },
    {
      "cell_type": "code",
      "execution_count": 12,
      "id": "bd56db63-70f1-4529-8646-e61e84f3bf41",
      "metadata": {
        "deletable": false,
        "nbgrader": {
          "cell_type": "code",
          "checksum": "7cf0735fc4fc860d838850f25ddb7637",
          "grade": false,
          "grade_id": "list_com_3",
          "locked": false,
          "schema_version": 3,
          "solution": true,
          "task": false
        },
        "tags": [],
        "id": "bd56db63-70f1-4529-8646-e61e84f3bf41"
      },
      "outputs": [],
      "source": [
        "a = [1, 3, 5, 7, 9]\n",
        "b = [2, 4, 6, 8, 10]\n",
        "ab_mp = [a[i] * b[i] for i in range(len(a))]\n"
      ]
    },
    {
      "cell_type": "code",
      "execution_count": 13,
      "id": "f30a16b0-f6ad-4704-b3d4-bd81c1986d26",
      "metadata": {
        "deletable": false,
        "editable": false,
        "nbgrader": {
          "cell_type": "code",
          "checksum": "c8382741290485817cb8f818324eb771",
          "grade": true,
          "grade_id": "list_com_3_test",
          "locked": true,
          "points": 0.5,
          "schema_version": 3,
          "solution": false,
          "task": false
        },
        "tags": [],
        "id": "f30a16b0-f6ad-4704-b3d4-bd81c1986d26"
      },
      "outputs": [],
      "source": [
        "assert len(ab_mp) == 5, \"ab_mp must be of length 5. Check if you handled your endpoints correctly\"\n",
        "assert ab_mp[0] == 2 and ab_mp[4] == 90, \"Check if you handled your endpoints correctly\""
      ]
    },
    {
      "cell_type": "markdown",
      "id": "ba1ea53f-27b0-4d36-a1b3-986355925897",
      "metadata": {
        "id": "ba1ea53f-27b0-4d36-a1b3-986355925897"
      },
      "source": [
        "#### 3. Study Name Conformity Check\n",
        "In the following, you will implement 3 different functions which later on will be used to perform a conformity check of a random study name. The requirements for a study name in an artificial database are:\n",
        "* req_1: only uppercase letters are allowed\n",
        "* req_2: only letters, numbers, and underscore \\'_\\' are allowed\n",
        "* req_3: the study name consists of 5 to 50 characters\n",
        "\n",
        "##### 3.1 Create a function ``check_upper`` with ``name`` as parameter which checks whether all letters are uppercase (req_1):\n",
        "* if **all** letters are uppercase return ``True``\n",
        "* if **any** letter is a lowercase letter return ``False``\n",
        "\n",
        "**Hint**: Check out if one of the built-in [string methods](https://docs.python.org/3/library/stdtypes.html#string-methods) can help you with the implementation."
      ]
    },
    {
      "cell_type": "code",
      "execution_count": 14,
      "id": "63dcfa3a-04ea-45a4-a00f-e09964c4527c",
      "metadata": {
        "deletable": false,
        "nbgrader": {
          "cell_type": "code",
          "checksum": "8fd5a5b0764ca5f6ef39b0971df3a5c8",
          "grade": false,
          "grade_id": "check_upper",
          "locked": false,
          "schema_version": 3,
          "solution": true,
          "task": false
        },
        "tags": [],
        "id": "63dcfa3a-04ea-45a4-a00f-e09964c4527c"
      },
      "outputs": [],
      "source": [
        "def check_upper(name):\n",
        "    return name.upper() == name\n"
      ]
    },
    {
      "cell_type": "code",
      "execution_count": 15,
      "id": "b413c8fb-2c47-4d92-a257-e4894a6277d4",
      "metadata": {
        "deletable": false,
        "editable": false,
        "nbgrader": {
          "cell_type": "code",
          "checksum": "40be7d78c37ff93076ec73fc357dd09e",
          "grade": true,
          "grade_id": "check_upper_test",
          "locked": true,
          "points": 1,
          "schema_version": 3,
          "solution": false,
          "task": false
        },
        "tags": [],
        "id": "b413c8fb-2c47-4d92-a257-e4894a6277d4"
      },
      "outputs": [],
      "source": [
        "assert check_upper(\"STUDY_PSY_1\") == True, \"Check if you return the correct boolean value\"\n",
        "assert check_upper(\"Study_Psyc_2\") == False, \"Check if you return the correct boolean value and used the right function\""
      ]
    },
    {
      "cell_type": "markdown",
      "id": "1971fc03-e333-4ba4-87ae-d7d3f8ce46fc",
      "metadata": {
        "id": "1971fc03-e333-4ba4-87ae-d7d3f8ce46fc"
      },
      "source": [
        "##### 3.2 Create a function ``check_special_characters`` with ``name`` as parameter which checks whether all elements are letters, numbers, or underscore \\'_\\' (req_2):\n",
        "* if **all** letters meet the requirement return ``False``\n",
        "* if **any** letter does not meet the requirement return ``True``\n",
        "\n",
        "**Hint**: Check again the [string methods](https://docs.python.org/3/library/stdtypes.html#string-methods) for a useful function."
      ]
    },
    {
      "cell_type": "code",
      "execution_count": 16,
      "id": "9a9f7f98-2008-414b-b2aa-bf586dffa2dd",
      "metadata": {
        "deletable": false,
        "nbgrader": {
          "cell_type": "code",
          "checksum": "d9875af50776acc457f3aedbe3541466",
          "grade": false,
          "grade_id": "check_special_character",
          "locked": false,
          "schema_version": 3,
          "solution": true,
          "task": false
        },
        "tags": [],
        "id": "9a9f7f98-2008-414b-b2aa-bf586dffa2dd"
      },
      "outputs": [],
      "source": [
        "def check_special_characters(name):\n",
        "    return not all(c.isalnum() or c == \"_\" for c in name)\n"
      ]
    },
    {
      "cell_type": "code",
      "execution_count": 17,
      "id": "6eb28308-806d-4ed6-b620-d2418641a3eb",
      "metadata": {
        "deletable": false,
        "editable": false,
        "nbgrader": {
          "cell_type": "code",
          "checksum": "cad755bf162ffea06326458432433341",
          "grade": true,
          "grade_id": "check_special_character_test",
          "locked": true,
          "points": 1,
          "schema_version": 3,
          "solution": false,
          "task": false
        },
        "tags": [],
        "id": "6eb28308-806d-4ed6-b620-d2418641a3eb"
      },
      "outputs": [],
      "source": [
        "assert check_special_characters(\"study_1\") == False, \"Check if you return the correct boolean value\"\n",
        "assert check_special_characters(\"study_*\") == True, \"Check if you return the correct boolean value and handled special characters correctly\"\n",
        "assert check_special_characters(\"*study_\") == True, \"Check if you return the correct boolean value and handled special characters correctly\""
      ]
    },
    {
      "cell_type": "markdown",
      "id": "a4ab61c1-2008-48ed-b100-1e02b4bb9f9a",
      "metadata": {
        "id": "a4ab61c1-2008-48ed-b100-1e02b4bb9f9a"
      },
      "source": [
        "##### 3.3 Create a function ``check_length`` with ``name`` as parameter which checks whether the name has at least 5 but maximum 50 characters (req_3):\n",
        "* if name consist of 5 to 50 characters (inclusive endpoints) return ``True``\n",
        "* if name has more or less characters return ``False``"
      ]
    },
    {
      "cell_type": "code",
      "execution_count": 18,
      "id": "dd6d04e8-2c37-42ec-b803-23df8d4c33b3",
      "metadata": {
        "deletable": false,
        "nbgrader": {
          "cell_type": "code",
          "checksum": "d03247c3afbc4a3118042ca72dabac77",
          "grade": false,
          "grade_id": "check_length",
          "locked": false,
          "schema_version": 3,
          "solution": true,
          "task": false
        },
        "tags": [],
        "id": "dd6d04e8-2c37-42ec-b803-23df8d4c33b3"
      },
      "outputs": [],
      "source": [
        "def check_length(name):\n",
        "    return 5 <= len(name) <= 50\n"
      ]
    },
    {
      "cell_type": "code",
      "execution_count": 19,
      "id": "3d56d65c-7b55-4085-9911-ed47f2d40ccf",
      "metadata": {
        "deletable": false,
        "editable": false,
        "nbgrader": {
          "cell_type": "code",
          "checksum": "7065522fee86eb38bdd6e7f67619574d",
          "grade": true,
          "grade_id": "check_length_test",
          "locked": true,
          "points": 1,
          "schema_version": 3,
          "solution": false,
          "task": false
        },
        "tags": [],
        "id": "3d56d65c-7b55-4085-9911-ed47f2d40ccf"
      },
      "outputs": [],
      "source": [
        "assert check_length(\"study\") == True, \"Check whether you handled your endpoints correctly\"\n",
        "assert check_length(\"study_applied_data_science_in_medicine_and_psychology\") == False, \"Check if you return the correct boolean value\""
      ]
    },
    {
      "cell_type": "markdown",
      "id": "5ca2d3ce-e02f-48ab-9ef7-0f3d005e5ba6",
      "metadata": {
        "id": "5ca2d3ce-e02f-48ab-9ef7-0f3d005e5ba6"
      },
      "source": [
        "##### 3.4 Create a function ``check_study_name`` with ``name`` as parameter and perform the study name conformity check using the functions implemented above:\n",
        "* Check if ``name`` is of type string and meets req_1, req_2, and req_3 using the functions above\n",
        "* if ``name`` meets all requirements return ``True``\n",
        "* if ``name`` fails one of the tests return ``False``\n",
        "* Can you implement this in only one line of code?\n",
        "\n",
        "**Hint**: check out the [isinstance()](https://docs.python.org/3/library/functions.html#isinstance) function to determine the type of parameters."
      ]
    },
    {
      "cell_type": "code",
      "execution_count": 20,
      "id": "b09042fd-ef9a-4085-b885-a475c0e6406e",
      "metadata": {
        "deletable": false,
        "nbgrader": {
          "cell_type": "code",
          "checksum": "8e0814cc302c59551b6dc6a497161864",
          "grade": false,
          "grade_id": "check_study_name",
          "locked": false,
          "schema_version": 3,
          "solution": true,
          "task": false
        },
        "tags": [],
        "id": "b09042fd-ef9a-4085-b885-a475c0e6406e"
      },
      "outputs": [],
      "source": [
        "def check_study_name(name):\n",
        "    return isinstance(name, str) and check_upper(name) and not check_special_characters(name) and check_length(name)\n"
      ]
    },
    {
      "cell_type": "code",
      "execution_count": 21,
      "id": "03c69c12-718f-494f-9897-0fe226e123be",
      "metadata": {
        "deletable": false,
        "editable": false,
        "nbgrader": {
          "cell_type": "code",
          "checksum": "742992d23eafea6e1b6d3f05a2e8c51a",
          "grade": true,
          "grade_id": "check_study_name_test",
          "locked": true,
          "points": 1,
          "schema_version": 3,
          "solution": false,
          "task": false
        },
        "tags": [],
        "id": "03c69c12-718f-494f-9897-0fe226e123be"
      },
      "outputs": [],
      "source": [
        "assert check_study_name(\"STUDY_PSYC_2\") == True, \"Ensure that you combined the functions correctly using logical operators\"\n",
        "assert check_study_name(1) == False, \"Ensure that you checked the data type of name\"\n",
        "assert check_study_name(\"Study_1\") == False, \"Ensure that you performed the check for uppercase letters\"\n",
        "assert check_study_name(\"study_psyc_#1\") == False, \"Ensure that you performed special characters check\"\n",
        "assert check_study_name(\"s_2\") == False, \"Ensure that you performed the length check\""
      ]
    },
    {
      "cell_type": "markdown",
      "id": "2f55395e-3cf5-4c7d-8772-7db52f39d348",
      "metadata": {
        "id": "2f55395e-3cf5-4c7d-8772-7db52f39d348"
      },
      "source": [
        "#### 4. Error Handling\n",
        "When a program encounters an error, it provides valuable feedback about what went wrong and where the problem occurred. This information can be used to diagnose and fix bugs in the code. Error handling also allows you to handle unexpected situations and lets your program continue to function even in the face of errors and other unexpected events.\n",
        "\n",
        "##### 4.1 In this task you will implement functions for a \"safe\" division:\n",
        "* Create a function ``safe_division`` with ``dividend`` and ``divisor`` as parameters. Return the quotient of these two. Then investigate which Exceptions might occur during the division using the test cases presented below. Implement your error handling accordingly such that ``np.nan`` (floating point representation of Not a Number (NaN)) is returned when an Exception occurs. You can use the ``finally`` block for example to print the result of your safe division:\n",
        "\n",
        "**Hint**: Check out the lecture slides for a suitable Python construct."
      ]
    },
    {
      "cell_type": "code",
      "execution_count": 22,
      "id": "589b8794-55a1-4251-b0d4-ac30f496f4b2",
      "metadata": {
        "deletable": false,
        "nbgrader": {
          "cell_type": "code",
          "checksum": "aec3a686b53ae9968b7528909ae4b168",
          "grade": false,
          "grade_id": "safe_division",
          "locked": false,
          "schema_version": 3,
          "solution": true,
          "task": false
        },
        "tags": [],
        "id": "589b8794-55a1-4251-b0d4-ac30f496f4b2"
      },
      "outputs": [],
      "source": [
        "def safe_division(dividend, divisor):\n",
        "    try:\n",
        "        return dividend / divisor\n",
        "    except Exception:\n",
        "        return np.nan\n"
      ]
    },
    {
      "cell_type": "code",
      "execution_count": 23,
      "id": "09222ec7-0ede-4674-a840-62b359cc4bf0",
      "metadata": {
        "deletable": false,
        "editable": false,
        "nbgrader": {
          "cell_type": "code",
          "checksum": "31e03a85d7e13463fca8ca12a7e983ec",
          "grade": true,
          "grade_id": "safe_division_test",
          "locked": true,
          "points": 1,
          "schema_version": 3,
          "solution": false,
          "task": false
        },
        "tags": [],
        "id": "09222ec7-0ede-4674-a840-62b359cc4bf0"
      },
      "outputs": [],
      "source": [
        "assert safe_division(10, 1) == 10, \"Ensure that you perform the division and return the quotient\"\n",
        "assert safe_division(10, 2.5) == 4, \"Ensure that you allow all necessary data types\"\n",
        "assert np.isnan(safe_division(10, \"1\")), \"Ensure that you handle this Exception correctly\"\n",
        "assert np.isnan(safe_division(10, 0)), \"Ensure that you handle this Exception correctly\""
      ]
    },
    {
      "cell_type": "markdown",
      "id": "64f0a09d-3731-4cfc-bb7c-c4dfbafea54e",
      "metadata": {
        "id": "64f0a09d-3731-4cfc-bb7c-c4dfbafea54e"
      },
      "source": [
        "* Now create a function ``division`` with ``dividend`` and ``divisor`` as parameters.\n",
        "    * Check the datatype of ``dividend``. If it is not of type int or float print a meaningful message and return\n",
        "    * Check the datatype of ``divisor``. If it is not of type list typecast the parameter to list\n",
        "    * Then divide ``dividend`` with every element of divisor using ``safe_divison``\n",
        "    * Return a list of all the quotients\n",
        "    \n",
        "**Hint**: Try ``[...]`` instead of ``list()`` for the typecast of ``divisor``."
      ]
    },
    {
      "cell_type": "code",
      "execution_count": 24,
      "id": "03666ad8-2a64-412a-a922-ce4b60faf3c7",
      "metadata": {
        "deletable": false,
        "nbgrader": {
          "cell_type": "code",
          "checksum": "e6cef4f71d5d31ed5223000da4cdde1b",
          "grade": false,
          "grade_id": "division",
          "locked": false,
          "schema_version": 3,
          "solution": true,
          "task": false
        },
        "tags": [],
        "id": "03666ad8-2a64-412a-a922-ce4b60faf3c7"
      },
      "outputs": [],
      "source": [
        "def division(dividend, divisor):\n",
        "    if not isinstance(dividend, (int, float)):\n",
        "        print(\"Error: Dividend must be an int or float.\")\n",
        "        return\n",
        "    if not isinstance(divisor, list):\n",
        "        divisor = [divisor]\n",
        "    return [safe_division(dividend, d) for d in divisor]\n"
      ]
    },
    {
      "cell_type": "code",
      "execution_count": 25,
      "id": "4f7e1af6-7111-4334-ba21-41c6487c386e",
      "metadata": {
        "deletable": false,
        "editable": false,
        "nbgrader": {
          "cell_type": "code",
          "checksum": "61e719f1d32b773d03c275358feb98de",
          "grade": true,
          "grade_id": "division_test",
          "locked": true,
          "points": 1,
          "schema_version": 3,
          "solution": false,
          "task": false
        },
        "tags": [],
        "id": "4f7e1af6-7111-4334-ba21-41c6487c386e",
        "colab": {
          "base_uri": "https://localhost:8080/"
        },
        "outputId": "7b5c09e8-77c5-490c-ef0a-5b695013dd4e"
      },
      "outputs": [
        {
          "output_type": "stream",
          "name": "stdout",
          "text": [
            "Error: Dividend must be an int or float.\n"
          ]
        }
      ],
      "source": [
        "assert division(\"1\", 1) == None, \"Ensure that you performed the datatype check of dividend\"\n",
        "assert division(1, 1) == [1.0], \"Ensure that you performed the datatype check of divisor\"\n",
        "assert division(10, [2, \"hi\", 2.5, 0, [1, 2], 200, None]) == [5.0, np.nan, 4.0, np.nan, np.nan, 0.05, np.nan], \"Check if you performed the division elementwise\"\n",
        "assert division(0, [0, 1]) == [np.nan, 0], \"Check if you performed the division elementwise\""
      ]
    },
    {
      "cell_type": "markdown",
      "id": "f1b81d38-e8a5-4e8b-a421-e58e43e095e6",
      "metadata": {
        "id": "f1b81d38-e8a5-4e8b-a421-e58e43e095e6"
      },
      "source": [
        "##### 4.2 Create a function ``check_study_params`` with the 2 parameters ``name`` and ``number_participants`` which checks if the study parameters are valid:\n",
        "* ``name``\n",
        "    * if it is ``None`` raise a warning with a meaningful message\n",
        "    * otherwise, use the ``check_study_name()`` function you created before to test for study name requirements. If they are not met, raise the Exception ``ValueError`` with a meaningful message\n",
        "* ``number_participants``\n",
        "    * if it is not of type ``int`` raise the Exception ``TypeError`` with a meaningful message\n",
        "    * if it is negative raise the Exception ``ValueError`` with a meaningful message"
      ]
    },
    {
      "cell_type": "code",
      "execution_count": 26,
      "id": "1d81e264-f9b2-4c96-b186-6a4892ddc9b2",
      "metadata": {
        "deletable": false,
        "nbgrader": {
          "cell_type": "code",
          "checksum": "590311b9bec28392cfbbc52aaf006e11",
          "grade": false,
          "grade_id": "check_study",
          "locked": false,
          "schema_version": 3,
          "solution": true,
          "task": false
        },
        "tags": [],
        "id": "1d81e264-f9b2-4c96-b186-6a4892ddc9b2"
      },
      "outputs": [],
      "source": [
        "def check_study_params(name, number_participants):\n",
        "    if name is None:\n",
        "        warn(\"Study name is None.\")\n",
        "    elif not check_study_name(name):\n",
        "        raise ValueError(\"Invalid study name.\")\n",
        "\n",
        "    if not isinstance(number_participants, int):\n",
        "        raise TypeError(\"Number of participants must be an integer.\")\n",
        "    if number_participants < 0:\n",
        "        raise ValueError(\"Number of participants must be non-negative.\")\n"
      ]
    },
    {
      "cell_type": "code",
      "execution_count": 27,
      "id": "da616924-c5a3-477e-8938-5195a031843e",
      "metadata": {
        "deletable": false,
        "editable": false,
        "nbgrader": {
          "cell_type": "code",
          "checksum": "54745a5b8b3e79382da543aa818f2a36",
          "grade": true,
          "grade_id": "check_study_test",
          "locked": true,
          "points": 2,
          "schema_version": 3,
          "solution": false,
          "task": false
        },
        "tags": [],
        "id": "da616924-c5a3-477e-8938-5195a031843e"
      },
      "outputs": [],
      "source": [
        "with catch_warnings(record=True) as w: check_study_params(None, 2); assert len(w) == 1, \"Check if you used a Warning\"\n",
        "with suppress(ValueError): check_study_params(\"study_psyc_#2\", 2); assert False, \"Check if you raise the correct Exception for study name\"\n",
        "with suppress(TypeError): check_study_params(\"STUDY_PSYC_1\", [12]); assert False, \"Check if you raise the correct Exception for number_participants\"\n",
        "with suppress(ValueError): check_study_params(\"STUDY_PSYC_1\", -1); assert False, \"Check if you raise the correct Exception for number_participants\""
      ]
    }
  ],
  "metadata": {
    "kernelspec": {
      "display_name": "Python 3",
      "name": "python3"
    },
    "language_info": {
      "name": "python"
    },
    "colab": {
      "provenance": [],
      "include_colab_link": true
    }
  },
  "nbformat": 4,
  "nbformat_minor": 5
}